{
  "nbformat": 4,
  "nbformat_minor": 0,
  "metadata": {
    "colab": {
      "name": "HomeWork1.ipynb",
      "provenance": [],
      "collapsed_sections": [],
      "authorship_tag": "ABX9TyMdl4mbPpf1Wf3g1N5qKThw",
      "include_colab_link": true
    },
    "kernelspec": {
      "name": "python3",
      "display_name": "Python 3"
    },
    "language_info": {
      "name": "python"
    }
  },
  "cells": [
    {
      "cell_type": "markdown",
      "metadata": {
        "id": "view-in-github",
        "colab_type": "text"
      },
      "source": [
        "<a href=\"https://colab.research.google.com/github/AleksLenn/PyHomeWork1/blob/main/HomeWork1.ipynb\" target=\"_parent\"><img src=\"https://colab.research.google.com/assets/colab-badge.svg\" alt=\"Open In Colab\"/></a>"
      ]
    },
    {
      "cell_type": "markdown",
      "metadata": {
        "id": "unFGVUe52tX6"
      },
      "source": [
        "Задание 1.2\n",
        "Записать условие, которое является истинным, когда каждое из чисел А и В нечетное."
      ]
    },
    {
      "cell_type": "code",
      "metadata": {
        "id": "7TJmUXMJ28p0"
      },
      "source": [
        "def task_1_2(a, b):\n",
        "    if((a % 2 != 0) & (b % 2 != 0)):\n",
        "        print(\"task_1_2 true\")\n",
        "    else:\n",
        "        print(\"task_1_2 false\")"
      ],
      "execution_count": null,
      "outputs": []
    },
    {
      "cell_type": "code",
      "metadata": {
        "id": "kbsSaRWU3Pk6"
      },
      "source": [
        "task_1_2(5, 3)"
      ],
      "execution_count": null,
      "outputs": []
    },
    {
      "cell_type": "markdown",
      "metadata": {
        "id": "bXC7iCj33fhC"
      },
      "source": [
        "Задание 1.12\n",
        "Записать условие, которое является истинным, когда каждое из чисел А,В,С кратно трем."
      ]
    },
    {
      "cell_type": "code",
      "metadata": {
        "id": "5zbaujBA3kwf"
      },
      "source": [
        "def task_1_12(a, b, c, div = 3):\n",
        "    if((a % div == 0) & (b % div == 0) & (c % div == 0)):\n",
        "        print(\"task_1_12 true\")\n",
        "    else:\n",
        "        print(\"task_1_12 false\")\n"
      ],
      "execution_count": null,
      "outputs": []
    },
    {
      "cell_type": "code",
      "metadata": {
        "id": "c7yByQXz31AP"
      },
      "source": [
        "task_1_12(3, 9, 13)"
      ],
      "execution_count": null,
      "outputs": []
    },
    {
      "cell_type": "markdown",
      "metadata": {
        "id": "w_7m1Fci4JOb"
      },
      "source": [
        "Задание 1.22\n",
        "Ввести с клавиатуры три числа, положительные возвести в квадрат,\n",
        "а отрицательные оставить без изменений."
      ]
    },
    {
      "cell_type": "code",
      "metadata": {
        "id": "wUP_m4Ut4WGG"
      },
      "source": [
        "def task_1_22(num_val):\n",
        "    a = []\n",
        "    for i in input(f\"input {num_val} numbers: \").split():\n",
        "        if(int(i) > 0):\n",
        "            i = int(i)**2\n",
        "        a.append(int(i))\n",
        "    print(f\"{a}\")"
      ],
      "execution_count": null,
      "outputs": []
    },
    {
      "cell_type": "code",
      "metadata": {
        "id": "3uOo5NTZ4hPw"
      },
      "source": [
        "task_1_22(3)"
      ],
      "execution_count": null,
      "outputs": []
    },
    {
      "cell_type": "markdown",
      "metadata": {
        "id": "o_SLpqsI4tiI"
      },
      "source": [
        "Задание 2.2\n",
        "Дано двузначное число. Определить:\n",
        "а) входят ли в него цифры 3 и 7;\n",
        "б) входят ли в него цифры (4 и 8) или цифра 9"
      ]
    },
    {
      "cell_type": "code",
      "metadata": {
        "id": "A_15RFR643G5"
      },
      "source": [
        "def task_2_2(a):\n",
        "    a = str(a)\n",
        "    #a)\n",
        "    if((a.find('3') >= 0) & (a.find('7') >= 0)):\n",
        "        print(f\"number {a} include 3 and 7\")\n",
        "    else:\n",
        "        print(f\"number {a} do not include 3 and 7\")\n",
        "    #b)\n",
        "    if((a.find('4') >= 0) & (a.find('8') >= 0) | (a.find('9') >= 0)):\n",
        "        print(f\"number {a} include 4 and 8 or 9\")\n",
        "    else:\n",
        "        print(f\"number {a} do not include 4 and 8 or 9\")"
      ],
      "execution_count": null,
      "outputs": []
    },
    {
      "cell_type": "code",
      "metadata": {
        "colab": {
          "base_uri": "https://localhost:8080/"
        },
        "id": "V2huJaV_5BHU",
        "outputId": "af230bfa-1665-433e-aa54-05d9b687fd1f"
      },
      "source": [
        "task_2_2(49)"
      ],
      "execution_count": null,
      "outputs": [
        {
          "output_type": "stream",
          "name": "stdout",
          "text": [
            "number 49 do not include 3 and 7\n",
            "number 49 include 4 and 8 or 9\n"
          ]
        }
      ]
    },
    {
      "cell_type": "markdown",
      "metadata": {
        "id": "FTE027l85P5s"
      },
      "source": [
        "Задание 3.2\n",
        "Мастям игральных карт условно присвоены следующие порядковые номера: масти \"пики\" — 1,\n",
        "масти \"трефы\" — 2, масти \"бубны\" — 3, масти \"червы\" — 4,\n",
        "а достоинству карт: \"валету\" — 11, \"даме\" — 12, \"королю\" — 13, \"тузу\" — 14\n",
        "(порядковые номера карт остальных достоинств соответствуют их названиям: \"шестерка\", \"девятка\").\n",
        "По заданным номеру масти m (1 <= m <= 4) и номеру достоинства карты k (6 <= k <= 14)\n",
        "определить полное название (масть и достоинство) соответствующей карты в виде \"Дама пик\",\n",
        "\"Шестерка бубен\" и т. п."
      ]
    },
    {
      "cell_type": "code",
      "metadata": {
        "id": "q4BxP-Fk5bY6"
      },
      "source": [
        "def task_3_2( k, m ):\n",
        "    suit = { 1: 'пики', 2: 'трефы', 3: 'бубны', 4: 'червы' }\n",
        "    weight = { 6: 'шестерка', 7: 'семерка', 8: 'восьмерка', 9: 'девятка', 10: 'десятка', 11: 'валет', 12: 'дама', 13: 'король', 14: 'туз' }\n",
        "    s = list(suit.keys())\n",
        "    w = list(weight.keys())\n",
        "    if( (s.count(m) == 0) | (w.count(k) == 0) ):\n",
        "        print(f\"ERROR\")\n",
        "        return\n",
        "    print(f\"{weight[k]} {suit[m]}\")"
      ],
      "execution_count": null,
      "outputs": []
    },
    {
      "cell_type": "code",
      "metadata": {
        "colab": {
          "base_uri": "https://localhost:8080/"
        },
        "id": "83mPv8su5ktF",
        "outputId": "f753cb5f-ded2-42b5-e03c-8b40d6b3f0ee"
      },
      "source": [
        "task_3_2(7, 2)"
      ],
      "execution_count": null,
      "outputs": [
        {
          "output_type": "stream",
          "name": "stdout",
          "text": [
            "семерка трефы\n"
          ]
        }
      ]
    },
    {
      "cell_type": "markdown",
      "metadata": {
        "id": "3OPIfJgc50WG"
      },
      "source": [
        "Задание 4.2\n",
        "Даны два целых числа A и B (A < B). Найти все целые числа, расположенные между данными числами\n",
        "(не включая сами эти числа), в порядке их убывания, а также количество N этих чисел."
      ]
    },
    {
      "cell_type": "code",
      "metadata": {
        "id": "pypaNFFL5-Qp"
      },
      "source": [
        "def task_4_2(a, b):\n",
        "    if a >= b:\n",
        "        print(\"ERROR\")\n",
        "        return\n",
        "    l = []\n",
        "    for i in range(a+1, b):\n",
        "        l.append(i)\n",
        "    l = sorted(l, reverse=True)\n",
        "    print(f\"list: {l}\\nsize {len(l)}\")"
      ],
      "execution_count": null,
      "outputs": []
    },
    {
      "cell_type": "code",
      "metadata": {
        "colab": {
          "base_uri": "https://localhost:8080/"
        },
        "id": "yMJYXM-Z6EXV",
        "outputId": "74ab1850-093f-48a5-9c73-40c21372299e"
      },
      "source": [
        "task_4_2(3, 8)"
      ],
      "execution_count": null,
      "outputs": [
        {
          "output_type": "stream",
          "name": "stdout",
          "text": [
            "list: [7, 6, 5, 4]\n",
            "size 4\n"
          ]
        }
      ]
    },
    {
      "cell_type": "markdown",
      "metadata": {
        "id": "Vzf_iR4q6gTC"
      },
      "source": [
        "Задание 5.1\n",
        "Гипотеза Сиракуз гласит, что любое натуральное число сводимо к единице при следующих\n",
        "действиях над ним:\n",
        "а) если число четное, то разделить его пополам,\n",
        "б) если нечетное - умножить на 3, прибавить 1 и результат разделить на 2.\n",
        "Над вновь полученным числом вновь повторить действия a) или б) в зависимости от его четности.\n",
        "Рано или поздно число станет равным 1."
      ]
    },
    {
      "cell_type": "code",
      "metadata": {
        "id": "LPVKZg0p6u4t"
      },
      "source": [
        "def task_5_1(a):\n",
        "    if a <= 0:\n",
        "        print(\"ERROR\")\n",
        "        return\n",
        "    while(a != 1):\n",
        "        if( a % 2 == 0 ):\n",
        "            a /= 2\n",
        "        else:\n",
        "            a = (a * 3 + 1) / 2\n",
        "        print(f\"a = {a}\")"
      ],
      "execution_count": null,
      "outputs": []
    },
    {
      "cell_type": "code",
      "metadata": {
        "id": "-RPa0lmZ61JZ"
      },
      "source": [
        "task_5_1(24546)"
      ],
      "execution_count": null,
      "outputs": []
    },
    {
      "cell_type": "markdown",
      "metadata": {
        "id": "3dTuqD9K6_Jl"
      },
      "source": [
        "Задание 5.2\n",
        "Начав тренировки, спортсмен в первый день пробежал n км.\n",
        "Каждый день он увеличивал дневную норму на y% нормы предыдущего дня.\n",
        "Какой суммарный путь пробежит спортсмен за x дней?"
      ]
    },
    {
      "cell_type": "code",
      "metadata": {
        "id": "g744KskG7IqH"
      },
      "source": [
        "def task_5_2(n , y, x):\n",
        "    if( n < 0 | y < 0 | x < 1 ):\n",
        "        print(\"ERROR\")\n",
        "        return\n",
        "    s = n\n",
        "    for i in range(x-1):\n",
        "        n += n * y / 100\n",
        "        s += n\n",
        "    print(f\"distance = {s}\")\n"
      ],
      "execution_count": null,
      "outputs": []
    },
    {
      "cell_type": "code",
      "metadata": {
        "id": "nK7c9DMr7PLR"
      },
      "source": [
        "task_5_2(5, 29, 4)"
      ],
      "execution_count": null,
      "outputs": []
    },
    {
      "cell_type": "markdown",
      "metadata": {
        "id": "oTHsf0617Y8w"
      },
      "source": [
        "Задание 5.3\n",
        "Определить, сколько в введенном пользователем числе четных цифр, а сколько нечетных."
      ]
    },
    {
      "cell_type": "code",
      "metadata": {
        "id": "EmKGjmUH7kk5"
      },
      "source": [
        "def task_5_3(a):\n",
        "    odd = honest = 0\n",
        "    for i in list(str(a)):\n",
        "        if( int(i) % 2 == 0 ):\n",
        "            honest += 1\n",
        "        else:\n",
        "            odd += 1\n",
        "    print(f\"number {a}\\nodd number {odd}\\nhonest number {honest}\")"
      ],
      "execution_count": null,
      "outputs": []
    },
    {
      "cell_type": "code",
      "metadata": {
        "colab": {
          "base_uri": "https://localhost:8080/"
        },
        "id": "qUGtjWoJ7rk-",
        "outputId": "cf58561b-28c1-48ee-bcf4-b7e68bbeb0ec"
      },
      "source": [
        "task_5_3(46244333)"
      ],
      "execution_count": null,
      "outputs": [
        {
          "output_type": "stream",
          "name": "stdout",
          "text": [
            "number 46244333\n",
            "odd number 3\n",
            "honest number 5\n"
          ]
        }
      ]
    },
    {
      "cell_type": "markdown",
      "metadata": {
        "id": "gzALzxPZ71Vq"
      },
      "source": [
        "Задание 5.4\n",
        "Написать программу в виде оператора цикла с параметром, обеспечивающий вывод на экран \"столбиком\"\n",
        "всех целых чисел от 10 до 30. Оформить этот фрагмент в виде:\n",
        "* а. оператора цикла с предусловием\n",
        "* б. оператора цикла с постусловием."
      ]
    },
    {
      "cell_type": "code",
      "metadata": {
        "id": "6-OeYA2S8APz"
      },
      "source": [
        "def task_5_4_a(a, b):\n",
        "    while a <= b :\n",
        "        print(f\"{a}\")\n",
        "        a += 1\n",
        "\n",
        "def task_5_4_b(a, b):\n",
        "    while True:\n",
        "        print(f\"{a}\")\n",
        "        a += 1\n",
        "        if a > b:\n",
        "            break"
      ],
      "execution_count": null,
      "outputs": []
    },
    {
      "cell_type": "code",
      "metadata": {
        "id": "YjLFy9l48LI5"
      },
      "source": [
        "task_5_4_a(10, 30)"
      ],
      "execution_count": null,
      "outputs": []
    },
    {
      "cell_type": "code",
      "metadata": {
        "id": "ssJXTvdP8LsA"
      },
      "source": [
        "task_5_4_b(10, 30)"
      ],
      "execution_count": null,
      "outputs": []
    },
    {
      "cell_type": "markdown",
      "metadata": {
        "id": "aYPSzHf-9nBB"
      },
      "source": [
        "Задание 6.1\n",
        "В некоторой стране используются денежные купюры достоинством в 1, 2, 4, 8, 16, 32 и 64.\n",
        "Дано натуральное число n. Как наименьшим количеством таких денежных купюр можно выплатить сумму n\n",
        "(указать количество каждой из используемых для выплаты купюр)? Предполагается, что имеется\n",
        "достаточно большое количество купюр всех достоинств"
      ]
    },
    {
      "cell_type": "code",
      "metadata": {
        "id": "lVDNh3Uw9w2q"
      },
      "source": [
        "def task_6_1(n):\n",
        "    d = {1: 0, 2: 0, 4: 0, 8: 0, 16: 0, 32: 0, 64: 0}\n",
        "    ldk = list(d.keys())\n",
        "    ldk.sort(reverse=True)\n",
        "    for i in ldk:\n",
        "        x = n // i;\n",
        "        d[i] = x;\n",
        "        n %= i\n",
        "        print(f\"bill [{i}] number {x}\")"
      ],
      "execution_count": null,
      "outputs": []
    },
    {
      "cell_type": "code",
      "metadata": {
        "id": "5cUCDc7992U3"
      },
      "source": [
        "task_6_1(245)"
      ],
      "execution_count": null,
      "outputs": []
    },
    {
      "cell_type": "markdown",
      "metadata": {
        "id": "b4P_uCQy-QX2"
      },
      "source": [
        "Задание 7.1\n",
        "Напечатать таблицу умножения до n"
      ]
    },
    {
      "cell_type": "code",
      "metadata": {
        "id": "QaNQSkic-Srv"
      },
      "source": [
        "def task_7_1(n):\n",
        "    for i in range(1,n+1):\n",
        "        print(\"\")\n",
        "        for j in range(1,n+1):\n",
        "            if n < 100:\n",
        "                print(\"{0:5}\".format(i*j), end='')\n",
        "            else:\n",
        "                print(\"{0:10}\".format(i*j), end='')"
      ],
      "execution_count": null,
      "outputs": []
    },
    {
      "cell_type": "code",
      "metadata": {
        "id": "BVuzWvHH-Znr"
      },
      "source": [
        "task_7_1(10)"
      ],
      "execution_count": null,
      "outputs": []
    },
    {
      "cell_type": "markdown",
      "metadata": {
        "id": "xPWCytbF-muT"
      },
      "source": [
        "Задание 7.2\n",
        "У гусей и кроликов вместе 64 лапы.\n",
        "Сколько могло быть кроликов и гусей (указать все сочетания, которые возможны)?"
      ]
    },
    {
      "cell_type": "code",
      "metadata": {
        "id": "5iIj5_E8-vEJ"
      },
      "source": [
        "def task_7_2(n):\n",
        "    for i in range(n):\n",
        "        if((n - i * 4) // 2 >= 0):\n",
        "            print(\"вариант {0:2} - кроликов {1:2} гусей {2:2}\".format(i, i, (n - i * 4) // 2))\n",
        "        else:\n",
        "            break"
      ],
      "execution_count": null,
      "outputs": []
    },
    {
      "cell_type": "code",
      "metadata": {
        "id": "HnGnRDOO-vqq"
      },
      "source": [
        "task_7_2(64)"
      ],
      "execution_count": null,
      "outputs": []
    },
    {
      "cell_type": "markdown",
      "metadata": {
        "id": "97l2bxZv_IN3"
      },
      "source": [
        "HomeWork 1 Ленников Алексей"
      ]
    }
  ]
}